{
 "cells": [
  {
   "metadata": {},
   "cell_type": "markdown",
   "source": [
    "#Theoritical Questions\n",
    "\n",
    "Ques1. What is Python, and why is it popular\n",
    "\n",
    "Ans1.\n",
    "- Python is simple and easy\n",
    "- Free and open source\n",
    "- High level language\n",
    "- which is Portable\n",
    "\n",
    "\n",
    "Ques2. What is an interpreter in Python.\n",
    "\n",
    "Ans2. An interpreter is a programme that executes Python codes line by line rather than compiling it all at once. It helps in debugging.\n",
    "\n",
    "\n",
    "Ques3. What are pre-defined keywords in Python?\n",
    "\n",
    "Ans3. They are the reserved words in Python. They are the pre defined words that holds a special meaning and have special purpose.\n",
    "\n",
    "\n",
    "Ques4. Can keywords be used as variable names.\n",
    "\n",
    "Ans4. No, Python keywords cannot be used as variable names since they have predefined meanings.\n",
    "\n",
    "\n",
    "Ques5. What is mutability in Python.\n",
    "\n",
    "Ans5. Mutability means if an object can be changed after its creation in Python or not. Mutable objects like lists ca be changed while immutable objects like strings cannot be changed.\n",
    "\n",
    "\n",
    "Ques6. Why are lists mutable, but tuples are immutable.\n",
    "\n",
    "Ans6. Lists are mutable because they are designed to allow modifications, while tuples are immutable so we cannot add or remove elements from it.\n",
    "\n",
    "\n",
    "Ques7. What is the difference between “==” and “is” operators in Python.\n",
    "\n",
    "Ans7. == checks if two values are equal to each other or defines that they are equal to each other while is checks for object identity whether two variables refer to the same object in memory.\n",
    "\n",
    "\n",
    "Ques8. What are logical operators in Python.\n",
    "\n",
    "Ans8. Logical operators in Python includes:\n",
    "- and: Returns True if both conditions are true.\n",
    "- or: Returns True if at least one condition is True.\n",
    "- not: Reverses the truth value.\n",
    "\n",
    "\n",
    "Ques9. What is type casting in Python.\n",
    "\n",
    "Ans9. type casting is converting a variable from one type to another. eg. int(\"7\") converts the string \"7\" to integer.\n",
    "\n",
    "\n",
    "Ques10. What is the difference between implicit and explicit type casting.\n",
    "\n",
    "Ans10. Implicit Data Type: Python automatically converts one data type to another.\n",
    "Explicit Data Type: User has to manually convert the data type.\n",
    "\n",
    "\n",
    "Ques11. What is the purpose of conditional statements in Python.\n",
    "\n",
    "Ans11. Conditional statements(if, elif, else) allows programs to make decisions and execute different code based on conditions.\n",
    "\n",
    "\n",
    "Ques12. How does the elif statement work.\n",
    "\n",
    "Ans12. The elif statement checks multiple conditions. If the if condition is False, it evaluates elif condition before moving to else.\n",
    "\n",
    "\n",
    "Ques13. What is the difference between for and while loops.\n",
    "\n",
    "Ans13.\n",
    "- for loop iterates over a sequence (list, tuple, string, etc)\n",
    "- while loop runs as long the condition is True.\n",
    "\n",
    "\n",
    "Ques14. Describe a scenario where a while loop is more suitable than a for loop.\n",
    "\n",
    "Ans14. A while loop is useful when the number of iterations is unknown beforehand, such as waiting for user input until they enter a valid response."
   ],
   "id": "d4f1ee59fa842b77"
  },
  {
   "metadata": {
    "ExecuteTime": {
     "end_time": "2025-03-31T14:21:52.922822Z",
     "start_time": "2025-03-31T14:21:52.920115Z"
    }
   },
   "cell_type": "code",
   "source": "#Practical Questions",
   "id": "30d41005f7e658c8",
   "outputs": [],
   "execution_count": 2
  },
  {
   "metadata": {
    "ExecuteTime": {
     "end_time": "2025-03-31T14:22:12.108647Z",
     "start_time": "2025-03-31T14:22:12.106411Z"
    }
   },
   "cell_type": "code",
   "source": [
    "#Ques1 Write a Python program to print \"Hello, World!\"\n",
    "print(\"Hello World\")"
   ],
   "id": "535d5c33d18c0d96",
   "outputs": [
    {
     "name": "stdout",
     "output_type": "stream",
     "text": [
      "Hello World\n"
     ]
    }
   ],
   "execution_count": 3
  },
  {
   "metadata": {
    "ExecuteTime": {
     "end_time": "2025-03-31T14:25:54.224569Z",
     "start_time": "2025-03-31T14:25:54.221606Z"
    }
   },
   "cell_type": "code",
   "source": [
    "#Ques2. Write a Python program that displays your name and age.\n",
    "name = \"Shweta\"\n",
    "age = 22\n",
    "print(\"My name is \" + name + \"and I am \" + str(age) + \" years old.\")"
   ],
   "id": "b7141f7ed41e1592",
   "outputs": [
    {
     "name": "stdout",
     "output_type": "stream",
     "text": [
      "My name is Shwetaand I am 22 years old.\n"
     ]
    }
   ],
   "execution_count": 10
  },
  {
   "metadata": {
    "ExecuteTime": {
     "end_time": "2025-03-31T14:25:50.622362Z",
     "start_time": "2025-03-31T14:25:50.618302Z"
    }
   },
   "cell_type": "code",
   "source": [
    "#Ques3. Write code to print all the pre-defined keywords in Python using the keyword library.\n",
    "import keyword\n",
    "print(keyword.kwlist)"
   ],
   "id": "f96ab2c00e691db0",
   "outputs": [
    {
     "name": "stdout",
     "output_type": "stream",
     "text": [
      "['False', 'None', 'True', 'and', 'as', 'assert', 'async', 'await', 'break', 'class', 'continue', 'def', 'del', 'elif', 'else', 'except', 'finally', 'for', 'from', 'global', 'if', 'import', 'in', 'is', 'lambda', 'nonlocal', 'not', 'or', 'pass', 'raise', 'return', 'try', 'while', 'with', 'yield']\n"
     ]
    }
   ],
   "execution_count": 9
  },
  {
   "metadata": {
    "ExecuteTime": {
     "end_time": "2025-03-31T14:32:30.192682Z",
     "start_time": "2025-03-31T14:32:25.475610Z"
    }
   },
   "cell_type": "code",
   "source": [
    "#Ques4. Write a program that checks if a given word is a Python keyword.\n",
    "word = input(\"Enter a word: \")\n",
    "if keyword.iskeyword(word):\n",
    "    print(f\"{word} is a python keyword\")\n",
    "else:\n",
    "    print(f\"{word} is not a python keyword\")"
   ],
   "id": "e4a3a85b690fa498",
   "outputs": [
    {
     "name": "stdout",
     "output_type": "stream",
     "text": [
      "for is a python keyword\n"
     ]
    }
   ],
   "execution_count": 13
  },
  {
   "metadata": {
    "ExecuteTime": {
     "end_time": "2025-04-01T10:53:55.788368Z",
     "start_time": "2025-04-01T10:53:55.785187Z"
    }
   },
   "cell_type": "code",
   "source": [
    "#Ques5. Write a function to demonstrate the behavior of mutable and immutable arguments.\n",
    "def modify_input(mutable_list, immutable_int):\n",
    "    mutable_list.append(100) #modifies original list\n",
    "    immutable_int += 10 #creates a new int object\n",
    "    return mutable_list, immutable_int\n",
    "my_list = [1, 2, 3, 4, 5, 6, 7, 8, 9, 10]\n",
    "my_int = 5\n",
    "print(modify_input(my_list, my_int))\n",
    "print(my_list, my_int)"
   ],
   "id": "8824568235321bd",
   "outputs": [
    {
     "name": "stdout",
     "output_type": "stream",
     "text": [
      "([1, 2, 3, 4, 5, 6, 7, 8, 9, 10, 100], 15)\n",
      "[1, 2, 3, 4, 5, 6, 7, 8, 9, 10, 100] 5\n"
     ]
    }
   ],
   "execution_count": 16
  },
  {
   "metadata": {
    "ExecuteTime": {
     "end_time": "2025-04-01T10:59:45.282486Z",
     "start_time": "2025-04-01T10:59:39.210517Z"
    }
   },
   "cell_type": "code",
   "source": [
    "#Ques7. Write a program that performs basic arithmetic operations on two user-input numbers.\n",
    "a = int(input(\"Enter a number: \"))\n",
    "b = int(input(\"Enter another number: \"))\n",
    "print(\"addition:\", a + b)\n",
    "print(\"multiplication:\", a * b)\n",
    "print(\"subtraction:\", a - b)\n",
    "print(\"division:\", a / b)"
   ],
   "id": "e0c146970eb91f9a",
   "outputs": [
    {
     "name": "stdout",
     "output_type": "stream",
     "text": [
      "addition: 15\n",
      "multiplication: 50\n",
      "subtraction: -5\n",
      "division: 0.5\n"
     ]
    }
   ],
   "execution_count": 19
  },
  {
   "metadata": {
    "ExecuteTime": {
     "end_time": "2025-04-01T11:01:53.052892Z",
     "start_time": "2025-04-01T11:01:53.050096Z"
    }
   },
   "cell_type": "code",
   "source": [
    "#Ques8. Write a program to demonstrate the use of logical operators.\n",
    "x, y = True, False\n",
    "print(\"x and y:\", x and y)\n",
    "print(\"x or y:\", x or y)\n",
    "print(\"not x:\", not x)"
   ],
   "id": "700e5bfbc75696ab",
   "outputs": [
    {
     "name": "stdout",
     "output_type": "stream",
     "text": [
      "x and y: False\n",
      "x or y: True\n",
      "not x: False\n"
     ]
    }
   ],
   "execution_count": 21
  },
  {
   "metadata": {
    "ExecuteTime": {
     "end_time": "2025-04-01T11:12:22.288457Z",
     "start_time": "2025-04-01T11:12:22.285484Z"
    }
   },
   "cell_type": "code",
   "source": [
    "#Ques5. Create a list and tuple in Python, and demonstrate how attempting to change an element works differently for each.\n",
    "my_list = [1, 2, 3, 4, 5, 6, 7, 8, 9, 10]\n",
    "my_list[0] = 77\n",
    "print(list)"
   ],
   "id": "4ee4c7be409668bb",
   "outputs": [
    {
     "name": "stdout",
     "output_type": "stream",
     "text": [
      "[77, 2, 3, 4, 5, 6, 7, 8, 9, 10]\n"
     ]
    }
   ],
   "execution_count": 31
  },
  {
   "metadata": {
    "ExecuteTime": {
     "end_time": "2025-04-01T11:03:57.329847Z",
     "start_time": "2025-04-01T11:03:57.311739Z"
    }
   },
   "cell_type": "code",
   "source": [
    "tuple = (1, 2, 3, 4, 5, 6, 7, 8, 9, 10)\n",
    "tuple[0] = 77\n",
    "print(tuple) #throwing error because tuple is immutable"
   ],
   "id": "ec642eefb23f6702",
   "outputs": [
    {
     "ename": "TypeError",
     "evalue": "'tuple' object does not support item assignment",
     "output_type": "error",
     "traceback": [
      "\u001B[31m---------------------------------------------------------------------------\u001B[39m",
      "\u001B[31mTypeError\u001B[39m                                 Traceback (most recent call last)",
      "\u001B[36mCell\u001B[39m\u001B[36m \u001B[39m\u001B[32mIn[23]\u001B[39m\u001B[32m, line 2\u001B[39m\n\u001B[32m      1\u001B[39m \u001B[38;5;28mtuple\u001B[39m = (\u001B[32m1\u001B[39m, \u001B[32m2\u001B[39m, \u001B[32m3\u001B[39m, \u001B[32m4\u001B[39m, \u001B[32m5\u001B[39m, \u001B[32m6\u001B[39m, \u001B[32m7\u001B[39m, \u001B[32m8\u001B[39m, \u001B[32m9\u001B[39m, \u001B[32m10\u001B[39m)\n\u001B[32m----> \u001B[39m\u001B[32m2\u001B[39m \u001B[38;5;28;43mtuple\u001B[39;49m\u001B[43m[\u001B[49m\u001B[32;43m0\u001B[39;49m\u001B[43m]\u001B[49m = \u001B[32m77\u001B[39m\n\u001B[32m      3\u001B[39m \u001B[38;5;28mprint\u001B[39m(\u001B[38;5;28mtuple\u001B[39m)\n",
      "\u001B[31mTypeError\u001B[39m: 'tuple' object does not support item assignment"
     ]
    }
   ],
   "execution_count": 23
  },
  {
   "metadata": {
    "ExecuteTime": {
     "end_time": "2025-04-01T11:06:43.896114Z",
     "start_time": "2025-04-01T11:06:37.590745Z"
    }
   },
   "cell_type": "code",
   "source": [
    "#Ques9. Write a Python program to convert user input from string to integer, float, and boolean types.\n",
    "a = input(\"Enter a number: \")\n",
    "print(\"Integer:\", int(a))\n",
    "print(\"float:\", float(a))\n",
    "print(\"boolean:\", bool(a))"
   ],
   "id": "3b966a46f4c64923",
   "outputs": [
    {
     "name": "stdout",
     "output_type": "stream",
     "text": [
      "Integer: 7\n",
      "float: 7.0\n",
      "boolean: True\n"
     ]
    }
   ],
   "execution_count": 24
  },
  {
   "metadata": {
    "ExecuteTime": {
     "end_time": "2025-04-01T11:13:22.340459Z",
     "start_time": "2025-04-01T11:13:22.337621Z"
    }
   },
   "cell_type": "code",
   "source": [
    "#Ques10. Write code to demonstrate type casting with list elements.\n",
    "str_list = [\"1\", \"2\", \"3\", \"4\", \"5\", \"6\", \"7\", \"8\", \"9\", \"10\"]\n",
    "int_list = list(map(int, str_list))\n",
    "print(int_list)"
   ],
   "id": "b5155716f20651de",
   "outputs": [
    {
     "name": "stdout",
     "output_type": "stream",
     "text": [
      "[1, 2, 3, 4, 5, 6, 7, 8, 9, 10]\n"
     ]
    }
   ],
   "execution_count": 1
  },
  {
   "metadata": {
    "ExecuteTime": {
     "end_time": "2025-04-01T11:16:09.456829Z",
     "start_time": "2025-04-01T11:16:09.453995Z"
    }
   },
   "cell_type": "code",
   "source": [
    "#Ques11. Write a program that checks if a number is positive, negative, or zero.\n",
    "a = 2\n",
    "if a > 0:\n",
    "    print(\"Positive\")\n",
    "elif a < 0:\n",
    "    print(\"Negative\")\n",
    "else: print(\"Zero\")"
   ],
   "id": "40ba19b16fc15d89",
   "outputs": [
    {
     "name": "stdout",
     "output_type": "stream",
     "text": [
      "Positive\n"
     ]
    }
   ],
   "execution_count": 7
  },
  {
   "metadata": {
    "ExecuteTime": {
     "end_time": "2025-04-01T11:17:14.078493Z",
     "start_time": "2025-04-01T11:17:14.074913Z"
    }
   },
   "cell_type": "code",
   "source": [
    "#Ques12. Write a for loop to print numbers from 1 to 10.\n",
    "for i in range(1, 11):\n",
    "    print(i)"
   ],
   "id": "1112c5db1ef4ce3",
   "outputs": [
    {
     "name": "stdout",
     "output_type": "stream",
     "text": [
      "1\n",
      "2\n",
      "3\n",
      "4\n",
      "5\n",
      "6\n",
      "7\n",
      "8\n",
      "9\n",
      "10\n"
     ]
    }
   ],
   "execution_count": 10
  },
  {
   "metadata": {
    "ExecuteTime": {
     "end_time": "2025-04-01T11:20:15.726691Z",
     "start_time": "2025-04-01T11:20:15.722651Z"
    }
   },
   "cell_type": "code",
   "source": [
    "#Ques13. Write a Python program to find the sum of all even numbers between 1 and 50.\n",
    "sum = 0\n",
    "for i in range(1, 51):\n",
    "    if i % 2 == 0:\n",
    "        sum += i\n",
    "print(sum)"
   ],
   "id": "213489f010469572",
   "outputs": [
    {
     "name": "stdout",
     "output_type": "stream",
     "text": [
      "650\n"
     ]
    }
   ],
   "execution_count": 17
  },
  {
   "metadata": {
    "ExecuteTime": {
     "end_time": "2025-04-01T11:28:02.225354Z",
     "start_time": "2025-04-01T11:28:02.222168Z"
    }
   },
   "cell_type": "code",
   "source": [
    "#Ques14. Write a program to reverse a string using a while loop.\n",
    "my_str = \"shweta\"\n",
    "reverse_str = \"\"\n",
    "i = len(my_str) - 1\n",
    "while i >= 0:\n",
    "    reverse_str += my_str[i]\n",
    "    i -= 1\n",
    "print(reverse_str)"
   ],
   "id": "c595d5899bf880c5",
   "outputs": [
    {
     "name": "stdout",
     "output_type": "stream",
     "text": [
      "atewhs\n"
     ]
    }
   ],
   "execution_count": 23
  },
  {
   "metadata": {
    "ExecuteTime": {
     "end_time": "2025-04-01T12:20:22.106827Z",
     "start_time": "2025-04-01T12:20:18.694269Z"
    }
   },
   "cell_type": "code",
   "source": [
    "#Ques15. Write a Python program to calculate the factorial of a number provided by the user using a while loop.\n",
    "num = int(input(\"Enter number: \"))\n",
    "fact = 1\n",
    "while num > 0:\n",
    "    fact *= num\n",
    "    num -= 1\n",
    "print(\"factorial:\", fact)"
   ],
   "id": "589116436aadf4e6",
   "outputs": [
    {
     "name": "stdout",
     "output_type": "stream",
     "text": [
      "factorial: 5040\n"
     ]
    }
   ],
   "execution_count": 33
  }
 ],
 "metadata": {
  "kernelspec": {
   "display_name": "Python 3",
   "language": "python",
   "name": "python3"
  },
  "language_info": {
   "codemirror_mode": {
    "name": "ipython",
    "version": 2
   },
   "file_extension": ".py",
   "mimetype": "text/x-python",
   "name": "python",
   "nbconvert_exporter": "python",
   "pygments_lexer": "ipython2",
   "version": "2.7.6"
  }
 },
 "nbformat": 4,
 "nbformat_minor": 5
}
